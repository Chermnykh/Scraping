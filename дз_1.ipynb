{
 "cells": [
  {
   "cell_type": "markdown",
   "id": "15799b7b",
   "metadata": {},
   "source": [
    "# Методы сбора и обработки данных из сети Интернет\n",
    "## Основы клиент-серверного взаимодействия. Парсинг API"
   ]
  },
  {
   "cell_type": "markdown",
   "id": "8bce5ec3",
   "metadata": {},
   "source": [
    "### 1. Посмотреть документацию к API GitHub, разобраться как вывести список репозиториев для конкретного пользователя, сохранить JSON-вывод в файле *.json."
   ]
  },
  {
   "cell_type": "code",
   "execution_count": 1,
   "id": "a78316d9",
   "metadata": {},
   "outputs": [],
   "source": [
    "import requests\n",
    "import json"
   ]
  },
  {
   "cell_type": "code",
   "execution_count": 2,
   "id": "98183323",
   "metadata": {},
   "outputs": [],
   "source": [
    "api_url_repo = \"https://api.github.com\""
   ]
  },
  {
   "cell_type": "code",
   "execution_count": 3,
   "id": "81063e72",
   "metadata": {},
   "outputs": [],
   "source": [
    "owner = \"octokit\""
   ]
  },
  {
   "cell_type": "code",
   "execution_count": 4,
   "id": "5345e760",
   "metadata": {},
   "outputs": [],
   "source": [
    "url_repo = f\"{api_url_repo}/users/{owner}/repos\""
   ]
  },
  {
   "cell_type": "code",
   "execution_count": 5,
   "id": "be1dc170",
   "metadata": {},
   "outputs": [],
   "source": [
    "response_repo = requests.get(url_repo)"
   ]
  },
  {
   "cell_type": "code",
   "execution_count": 6,
   "id": "55f91033",
   "metadata": {},
   "outputs": [
    {
     "name": "stdout",
     "output_type": "stream",
     "text": [
      "Repository name: .github\n",
      "Repository name: action.js\n",
      "Repository name: app-permissions\n",
      "Repository name: app.js\n",
      "Repository name: auth-action.js\n",
      "Repository name: auth-app.js\n",
      "Repository name: auth-basic.js\n",
      "Repository name: auth-callback.js\n",
      "Repository name: auth-oauth-app.js\n",
      "Repository name: auth-oauth-device.js\n",
      "Repository name: auth-oauth-user-client.js\n",
      "Repository name: auth-oauth-user.js\n",
      "Repository name: auth-token.js\n",
      "Repository name: auth-unauthenticated.js\n",
      "Repository name: authentication-strategies.js\n",
      "Repository name: core.js\n",
      "Repository name: create-octokit-project.js\n",
      "Repository name: discussions\n",
      "Repository name: endpoint.js\n",
      "Repository name: fixtures\n",
      "Repository name: fixtures-server\n",
      "Repository name: go-octokit\n",
      "Repository name: graphql-action\n",
      "Repository name: graphql-schema\n",
      "Repository name: graphql.js\n",
      "Repository name: handbook\n",
      "Repository name: oauth-app.js\n",
      "Repository name: oauth-authorization-url.js\n",
      "Repository name: oauth-methods.js\n",
      "Repository name: octokit-next.js\n"
     ]
    }
   ],
   "source": [
    "with open('repo_out.json', 'w') as f:\n",
    "    json.dump(response_repo.json(), f)\n",
    "\n",
    "for i in response_repo.json():\n",
    "    print(f\"Repository name: {i['name']}\")"
   ]
  },
  {
   "cell_type": "markdown",
   "id": "1b830cdb",
   "metadata": {},
   "source": [
    "### 2. Изучить список открытых API (https://www.programmableweb.com/category/all/apis). Найти среди них любое, требующее авторизацию (любого типа). Выполнить запросы к нему, пройдя авторизацию. Ответ сервера записать в файл.\n",
    "Если нет желания заморачиваться с поиском, возьмите API вконтакте (https://vk.com/dev/first_guide). Сделайте запрос, чтобы получить список всех сообществ на которые вы подписаны."
   ]
  },
  {
   "cell_type": "code",
   "execution_count": 8,
   "id": "a6eab312",
   "metadata": {},
   "outputs": [],
   "source": [
    "access_token = '2e3b2a599c348bc13e29a0b6d6c4c3b507247c6f925a67bde19849056f3d2c0db76297d3a4c6dfedc707c'\n",
    "vk_version = '7.12'"
   ]
  },
  {
   "cell_type": "code",
   "execution_count": 9,
   "id": "52fa7600",
   "metadata": {},
   "outputs": [],
   "source": [
    "response_vk = requests.get(f'https://api.vk.com/method/groups.get?extended=1&access_token={access_token}&v={vk_version}')"
   ]
  },
  {
   "cell_type": "code",
   "execution_count": 10,
   "id": "4c5f6ce3",
   "metadata": {},
   "outputs": [
    {
     "name": "stdout",
     "output_type": "stream",
     "text": [
      "\n",
      "Список сообществ, на которые вы подписаны\n",
      "Как я встретил столбняк\n",
      "Сарказм\n",
      "Reddit\n",
      "Introvert room  |  cartoons\n",
      "V Λ C U U M\n",
      "МХК\n",
      "Добрые мемы : )\n",
      "9GAG\n",
      "O B A F G K M\n",
      "Пасхалки и Факты\n",
      "corgi\n",
      "capricious\n",
      "Лайфхакерша!\n",
      "Извини, мой фетиш - лапки\n",
      "VOGUE IS MY RELIGION\n",
      "be a part\n",
      "Хахаски\n",
      "капризный ленгвист\n",
      "БРИТИШ ЮМОР\n",
      "MARVEL/DC\n",
      "нечего надеть\n",
      "COF\n",
      "крайне некультурные папуги\n",
      "Сама Себе Тренер\n",
      "Индивидуалист\n",
      "GOLD KARDASHIANS\n",
      "Prêt-à-Porter | Мода и стиль\n",
      "VSCO X ФИЛЬТРЫ | инстамасочки\n",
      "Broadway\n",
      "LOOKBOOK\n",
      "Это я\n",
      "твоей прекрасной юности момент\n",
      "театр абсурда\n",
      "Словарный запас (EN)\n",
      "Walt Disney Pictures\n",
      "Добрые животные\n",
      "Мульты в законе\n",
      "Netflix | Нетфликс\n",
      "НИШТЯКИ С АЛИЭКСПРЕСС\n",
      "Гадкий Енот\n",
      "sword lily\n",
      "Говорящие планеты\n",
      "Рабочие истории\n",
      "ФИЛОСОФИЯ | НАУКА | КУЛЬТУРА\n",
      "Easy English | Английский Легко\n",
      "AMEN FASHION\n",
      "Испанский язык за чашечкой кофе\n",
      "Французский язык\n",
      "Франция ❤ Французский язык и Культура\n",
      "Йога.\n",
      "Think English\n",
      "Level Up — система прокачки человека.\n",
      "Vogue is my religion Articles\n",
      "Французский язык\n",
      "OUTFIT\n",
      "let me.\n",
      "плейлистик дня\n",
      "Hot Couture\n",
      "Умный Студент: как взять максимум от учёбы\n",
      "С В И Н К А\n",
      "Назад в будущее\n"
     ]
    }
   ],
   "source": [
    "with open('vk_out.json', 'w') as f:\n",
    "    json.dump(response_vk.json(), f)\n",
    "\n",
    "print('\\nСписок сообществ, на которые вы подписаны')\n",
    "for group in response_vk.json()['response']['items']:\n",
    "    print(f\"{group['name']}\")"
   ]
  }
 ],
 "metadata": {
  "kernelspec": {
   "display_name": "Python 3 (ipykernel)",
   "language": "python",
   "name": "python3"
  },
  "language_info": {
   "codemirror_mode": {
    "name": "ipython",
    "version": 3
   },
   "file_extension": ".py",
   "mimetype": "text/x-python",
   "name": "python",
   "nbconvert_exporter": "python",
   "pygments_lexer": "ipython3",
   "version": "3.9.6"
  }
 },
 "nbformat": 4,
 "nbformat_minor": 5
}
