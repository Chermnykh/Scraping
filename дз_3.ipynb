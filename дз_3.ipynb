{
 "cells": [
  {
   "cell_type": "markdown",
   "id": "6d4a515f",
   "metadata": {},
   "source": [
    "# Методы сбора и обработки данных из сети Интернет\n",
    "## Системы управления базами данных MongoDB и SQLite в Python"
   ]
  },
  {
   "cell_type": "markdown",
   "id": "dcf98fae",
   "metadata": {},
   "source": [
    "Загрузка необходимых библиотек"
   ]
  },
  {
   "cell_type": "code",
   "execution_count": 1,
   "id": "0f048f04",
   "metadata": {},
   "outputs": [],
   "source": [
    "import requests\n",
    "from bs4 import BeautifulSoup\n",
    "import re\n",
    "\n",
    "import tqdm.notebook\n",
    "import pandas as pd\n",
    "from pprint import pprint\n",
    "from pymongo import MongoClient\n",
    "from pymongo.errors import DuplicateKeyError as dke, BulkWriteError as bwe"
   ]
  },
  {
   "cell_type": "markdown",
   "id": "2def78bc",
   "metadata": {},
   "source": [
    "Парсинг сайта"
   ]
  },
  {
   "cell_type": "code",
   "execution_count": 2,
   "id": "3c50dd3d",
   "metadata": {},
   "outputs": [],
   "source": [
    "base_url = 'https://hh.ru'\n",
    "headers = {'User-Agent': 'Mozilla/5.0 (X11; Linux x86_64) AppleWebKit/537.36 (KHTML, like Gecko) Chrome/98.0.4758.80 Safari/537.36'}"
   ]
  },
  {
   "cell_type": "code",
   "execution_count": 3,
   "id": "77bbaed5",
   "metadata": {},
   "outputs": [],
   "source": [
    "def parse_salary(salary):\n",
    "    salary = salary.replace(\" \", '').replace(' ', '')\n",
    "    res = [None, None, None]\n",
    "    \n",
    "    try:\n",
    "        match_res = re.match('(\\d+).(\\d+)(.*)', salary) # dual salary\n",
    "        res[0] = int(match_res.group(1))\n",
    "        res[1] = int(match_res.group(2))\n",
    "        res[2] = match_res.group(3)\n",
    "    except:\n",
    "        pass\n",
    "    \n",
    "    try:\n",
    "        match_res = re.match('от(\\d+)(.*)', salary) # from-salary\n",
    "        res[0] = int(match_res.group(1))\n",
    "        res[2] = match_res.group(2)\n",
    "    except:\n",
    "        pass\n",
    "    \n",
    "    try:\n",
    "        match_res = re.match('до(\\d+)(.*)', salary) # to-salary\n",
    "        res[1] = int(match_res.group(1))\n",
    "        res[2] = match_res.group(2)\n",
    "    except:\n",
    "        pass\n",
    "    \n",
    "    return res"
   ]
  },
  {
   "cell_type": "code",
   "execution_count": 4,
   "id": "a2e6fddd",
   "metadata": {
    "scrolled": true
   },
   "outputs": [
    {
     "name": "stdout",
     "output_type": "stream",
     "text": [
      "Введите количество страниц, которые нужно обработать: 30\n"
     ]
    },
    {
     "data": {
      "application/vnd.jupyter.widget-view+json": {
       "model_id": "cf6b33d6b19046ee81c0458f90cdae9b",
       "version_major": 2,
       "version_minor": 0
      },
      "text/plain": [
       "  0%|          | 0/30 [00:00<?, ?it/s]"
      ]
     },
     "metadata": {},
     "output_type": "display_data"
    },
    {
     "name": "stdout",
     "output_type": "stream",
     "text": [
      "Введите вакансию: аналитик\n"
     ]
    }
   ],
   "source": [
    "jobs_list = []\n",
    "page_number = int(input('Введите количество страниц, которые нужно обработать: '))\n",
    "a = tqdm.notebook.tqdm(total=page_number)\n",
    "job_title = input('Введите вакансию: ')\n",
    "\n",
    "for page in range(page_number):\n",
    "    params = {'text': job_title, 'page': page}\n",
    "    response = requests.get(base_url + '/search/vacancy', headers=headers, params=params)\n",
    "    dom = BeautifulSoup(response.text, 'html.parser')\n",
    "    \n",
    "    items = dom.find_all('div', {'class': 'vacancy-serp-item'})\n",
    "    \n",
    "    for item in items:\n",
    "        salary = None\n",
    "        title = None\n",
    "        \n",
    "        title = item.find('a', {'data-qa': 'vacancy-serp__vacancy-title'}).text\n",
    "        \n",
    "        try:\n",
    "            salary = item.find('span', {'data-qa': 'vacancy-serp__vacancy-compensation'}).text\n",
    "            parsed_salary = parse_salary(salary)\n",
    "\n",
    "        except AttributeError as e:\n",
    "            parsed_salary = [None, None, None]\n",
    "        \n",
    "        link = item.find('a', {'data-qa': 'vacancy-serp__vacancy-title'})['href']\n",
    "        vac_id = int(re.match('.*?(\\d+).*?', link).groups(1)[0])\n",
    "    \n",
    "        jobs_list.append([vac_id, title, *parsed_salary, link, base_url])\n",
    "    \n",
    "    a.update(1)\n",
    "    \n",
    "    if len(dom.find_all('a', {'data-qa': 'pager-next'})) == 0:\n",
    "        break\n",
    "    \n"
   ]
  },
  {
   "cell_type": "code",
   "execution_count": 5,
   "id": "9cbe70cf",
   "metadata": {},
   "outputs": [
    {
     "data": {
      "text/html": [
       "<div>\n",
       "<style scoped>\n",
       "    .dataframe tbody tr th:only-of-type {\n",
       "        vertical-align: middle;\n",
       "    }\n",
       "\n",
       "    .dataframe tbody tr th {\n",
       "        vertical-align: top;\n",
       "    }\n",
       "\n",
       "    .dataframe thead th {\n",
       "        text-align: right;\n",
       "    }\n",
       "</style>\n",
       "<table border=\"1\" class=\"dataframe\">\n",
       "  <thead>\n",
       "    <tr style=\"text-align: right;\">\n",
       "      <th></th>\n",
       "      <th>_id</th>\n",
       "      <th>Наименование вакансии</th>\n",
       "      <th>Минимальная зарплата</th>\n",
       "      <th>Максимальная зарплата</th>\n",
       "      <th>Валюта</th>\n",
       "      <th>Ссылка на вакансию</th>\n",
       "      <th>Ссылка на сайт</th>\n",
       "    </tr>\n",
       "  </thead>\n",
       "  <tbody>\n",
       "    <tr>\n",
       "      <th>0</th>\n",
       "      <td>53032262</td>\n",
       "      <td>Data-аналитик (Анализ цены)</td>\n",
       "      <td>NaN</td>\n",
       "      <td>NaN</td>\n",
       "      <td>None</td>\n",
       "      <td>https://ekaterinburg.hh.ru/vacancy/53032262?fr...</td>\n",
       "      <td>https://hh.ru</td>\n",
       "    </tr>\n",
       "    <tr>\n",
       "      <th>1</th>\n",
       "      <td>46241509</td>\n",
       "      <td>Аналитик данных</td>\n",
       "      <td>NaN</td>\n",
       "      <td>NaN</td>\n",
       "      <td>None</td>\n",
       "      <td>https://ekaterinburg.hh.ru/vacancy/46241509?fr...</td>\n",
       "      <td>https://hh.ru</td>\n",
       "    </tr>\n",
       "    <tr>\n",
       "      <th>2</th>\n",
       "      <td>51907042</td>\n",
       "      <td>Экономист-аналитик</td>\n",
       "      <td>100000.0</td>\n",
       "      <td>NaN</td>\n",
       "      <td>руб.</td>\n",
       "      <td>https://ekaterinburg.hh.ru/vacancy/51907042?fr...</td>\n",
       "      <td>https://hh.ru</td>\n",
       "    </tr>\n",
       "    <tr>\n",
       "      <th>3</th>\n",
       "      <td>52030785</td>\n",
       "      <td>Data Analyst</td>\n",
       "      <td>NaN</td>\n",
       "      <td>NaN</td>\n",
       "      <td>None</td>\n",
       "      <td>https://ekaterinburg.hh.ru/vacancy/52030785?fr...</td>\n",
       "      <td>https://hh.ru</td>\n",
       "    </tr>\n",
       "    <tr>\n",
       "      <th>4</th>\n",
       "      <td>49881796</td>\n",
       "      <td>Data Analyst \\ Аналитик данных (BI, SQL, Pytho...</td>\n",
       "      <td>170000.0</td>\n",
       "      <td>210000.0</td>\n",
       "      <td>руб.</td>\n",
       "      <td>https://ekaterinburg.hh.ru/vacancy/49881796?fr...</td>\n",
       "      <td>https://hh.ru</td>\n",
       "    </tr>\n",
       "    <tr>\n",
       "      <th>...</th>\n",
       "      <td>...</td>\n",
       "      <td>...</td>\n",
       "      <td>...</td>\n",
       "      <td>...</td>\n",
       "      <td>...</td>\n",
       "      <td>...</td>\n",
       "      <td>...</td>\n",
       "    </tr>\n",
       "    <tr>\n",
       "      <th>595</th>\n",
       "      <td>52429718</td>\n",
       "      <td>Маркетолог-аналитик</td>\n",
       "      <td>NaN</td>\n",
       "      <td>NaN</td>\n",
       "      <td>None</td>\n",
       "      <td>https://ekaterinburg.hh.ru/vacancy/52429718?fr...</td>\n",
       "      <td>https://hh.ru</td>\n",
       "    </tr>\n",
       "    <tr>\n",
       "      <th>596</th>\n",
       "      <td>53076625</td>\n",
       "      <td>Аналитик отдела продаж</td>\n",
       "      <td>40000.0</td>\n",
       "      <td>NaN</td>\n",
       "      <td>руб.</td>\n",
       "      <td>https://ekaterinburg.hh.ru/vacancy/53076625?fr...</td>\n",
       "      <td>https://hh.ru</td>\n",
       "    </tr>\n",
       "    <tr>\n",
       "      <th>597</th>\n",
       "      <td>52226546</td>\n",
       "      <td>Аналитик информационных систем</td>\n",
       "      <td>NaN</td>\n",
       "      <td>NaN</td>\n",
       "      <td>None</td>\n",
       "      <td>https://ekaterinburg.hh.ru/vacancy/52226546?fr...</td>\n",
       "      <td>https://hh.ru</td>\n",
       "    </tr>\n",
       "    <tr>\n",
       "      <th>598</th>\n",
       "      <td>51346372</td>\n",
       "      <td>Бизнес – аналитик</td>\n",
       "      <td>60000.0</td>\n",
       "      <td>NaN</td>\n",
       "      <td>руб.</td>\n",
       "      <td>https://ekaterinburg.hh.ru/vacancy/51346372?fr...</td>\n",
       "      <td>https://hh.ru</td>\n",
       "    </tr>\n",
       "    <tr>\n",
       "      <th>599</th>\n",
       "      <td>53021511</td>\n",
       "      <td>Аналитик</td>\n",
       "      <td>NaN</td>\n",
       "      <td>48000.0</td>\n",
       "      <td>руб.</td>\n",
       "      <td>https://ekaterinburg.hh.ru/vacancy/53021511?fr...</td>\n",
       "      <td>https://hh.ru</td>\n",
       "    </tr>\n",
       "  </tbody>\n",
       "</table>\n",
       "<p>600 rows × 7 columns</p>\n",
       "</div>"
      ],
      "text/plain": [
       "          _id                              Наименование вакансии  \\\n",
       "0    53032262                        Data-аналитик (Анализ цены)   \n",
       "1    46241509                                    Аналитик данных   \n",
       "2    51907042                                 Экономист-аналитик   \n",
       "3    52030785                                       Data Analyst   \n",
       "4    49881796  Data Analyst \\ Аналитик данных (BI, SQL, Pytho...   \n",
       "..        ...                                                ...   \n",
       "595  52429718                                Маркетолог-аналитик   \n",
       "596  53076625                             Аналитик отдела продаж   \n",
       "597  52226546                     Аналитик информационных систем   \n",
       "598  51346372                                  Бизнес – аналитик   \n",
       "599  53021511                                           Аналитик   \n",
       "\n",
       "     Минимальная зарплата  Максимальная зарплата Валюта  \\\n",
       "0                     NaN                    NaN   None   \n",
       "1                     NaN                    NaN   None   \n",
       "2                100000.0                    NaN   руб.   \n",
       "3                     NaN                    NaN   None   \n",
       "4                170000.0               210000.0   руб.   \n",
       "..                    ...                    ...    ...   \n",
       "595                   NaN                    NaN   None   \n",
       "596               40000.0                    NaN   руб.   \n",
       "597                   NaN                    NaN   None   \n",
       "598               60000.0                    NaN   руб.   \n",
       "599                   NaN                48000.0   руб.   \n",
       "\n",
       "                                    Ссылка на вакансию Ссылка на сайт  \n",
       "0    https://ekaterinburg.hh.ru/vacancy/53032262?fr...  https://hh.ru  \n",
       "1    https://ekaterinburg.hh.ru/vacancy/46241509?fr...  https://hh.ru  \n",
       "2    https://ekaterinburg.hh.ru/vacancy/51907042?fr...  https://hh.ru  \n",
       "3    https://ekaterinburg.hh.ru/vacancy/52030785?fr...  https://hh.ru  \n",
       "4    https://ekaterinburg.hh.ru/vacancy/49881796?fr...  https://hh.ru  \n",
       "..                                                 ...            ...  \n",
       "595  https://ekaterinburg.hh.ru/vacancy/52429718?fr...  https://hh.ru  \n",
       "596  https://ekaterinburg.hh.ru/vacancy/53076625?fr...  https://hh.ru  \n",
       "597  https://ekaterinburg.hh.ru/vacancy/52226546?fr...  https://hh.ru  \n",
       "598  https://ekaterinburg.hh.ru/vacancy/51346372?fr...  https://hh.ru  \n",
       "599  https://ekaterinburg.hh.ru/vacancy/53021511?fr...  https://hh.ru  \n",
       "\n",
       "[600 rows x 7 columns]"
      ]
     },
     "execution_count": 5,
     "metadata": {},
     "output_type": "execute_result"
    }
   ],
   "source": [
    "jobs_df = pd.DataFrame(jobs_list, columns=['_id', 'Наименование вакансии', 'Минимальная зарплата', 'Максимальная зарплата', 'Валюта', 'Ссылка на вакансию', 'Ссылка на сайт'])\n",
    "jobs_df"
   ]
  },
  {
   "cell_type": "markdown",
   "id": "4c1cca8c",
   "metadata": {},
   "source": [
    "### Задание 1\n",
    "Развернуть у себя на компьютере/виртуальной машине/хостинге MongoDB и реализовать функцию, которая будет добавлять только новые вакансии/продукты в вашу базу."
   ]
  },
  {
   "cell_type": "code",
   "execution_count": 6,
   "id": "9785e828",
   "metadata": {},
   "outputs": [],
   "source": [
    "client = MongoClient('localhost', 27017)\n",
    "\n",
    "db = client['vacancies_hh']    \n",
    "vacancies = db.vacancies        "
   ]
  },
  {
   "cell_type": "code",
   "execution_count": 7,
   "id": "3bf2010f",
   "metadata": {},
   "outputs": [],
   "source": [
    "try:\n",
    "     vacancies.insert_many(jobs_df.drop_duplicates(subset = ['_id'], keep = 'first').to_dict('records'), ordered=False)\n",
    "except (dke, bwe):\n",
    "    print('Duplicate key error collection')"
   ]
  },
  {
   "cell_type": "markdown",
   "id": "90ab7189",
   "metadata": {},
   "source": [
    "### Задание 2\n",
    "Написать функцию, которая производит поиск и выводит на экран вакансии с заработной платой больше введённой суммы (необходимо анализировать оба поля зарплаты). "
   ]
  },
  {
   "cell_type": "code",
   "execution_count": 9,
   "id": "a30a07b7",
   "metadata": {},
   "outputs": [
    {
     "name": "stdout",
     "output_type": "stream",
     "text": [
      "Введите нужную зарплату: 400000\n",
      "{'_id': 52987990,\n",
      " 'Валюта': 'KZT',\n",
      " 'Максимальная зарплата': nan,\n",
      " 'Минимальная зарплата': 500000.0,\n",
      " 'Наименование вакансии': 'Финансовый аналитик в г. Шымкент (Аналитик продаж)',\n",
      " 'Ссылка на вакансию': 'https://ekaterinburg.hh.ru/vacancy/52987990?from=vacancy_search_list&hhtmFrom=vacancy_search_list&query=%D0%B0%D0%BD%D0%B0%D0%BB%D0%B8%D1%82%D0%B8%D0%BA',\n",
      " 'Ссылка на сайт': 'https://hh.ru'}\n",
      "{'_id': 53001435,\n",
      " 'Валюта': 'руб.',\n",
      " 'Максимальная зарплата': 530000.0,\n",
      " 'Минимальная зарплата': 310000.0,\n",
      " 'Наименование вакансии': 'Системный аналитик (Middle & Senior)',\n",
      " 'Ссылка на вакансию': 'https://ekaterinburg.hh.ru/vacancy/53001435?from=vacancy_search_list&hhtmFrom=vacancy_search_list&query=%D0%B0%D0%BD%D0%B0%D0%BB%D0%B8%D1%82%D0%B8%D0%BA',\n",
      " 'Ссылка на сайт': 'https://hh.ru'}\n",
      "{'_id': 52999639,\n",
      " 'Валюта': 'руб.',\n",
      " 'Максимальная зарплата': 420000.0,\n",
      " 'Минимальная зарплата': nan,\n",
      " 'Наименование вакансии': 'Системный аналитик',\n",
      " 'Ссылка на вакансию': 'https://ekaterinburg.hh.ru/vacancy/52999639?from=vacancy_search_list&hhtmFrom=vacancy_search_list&query=%D0%B0%D0%BD%D0%B0%D0%BB%D0%B8%D1%82%D0%B8%D0%BA',\n",
      " 'Ссылка на сайт': 'https://hh.ru'}\n",
      "{'_id': 52038574,\n",
      " 'Валюта': 'руб.',\n",
      " 'Максимальная зарплата': 450000.0,\n",
      " 'Минимальная зарплата': 250000.0,\n",
      " 'Наименование вакансии': 'Старший системный аналитик',\n",
      " 'Ссылка на вакансию': 'https://ekaterinburg.hh.ru/vacancy/52038574?from=vacancy_search_list&hhtmFrom=vacancy_search_list&query=%D0%B0%D0%BD%D0%B0%D0%BB%D0%B8%D1%82%D0%B8%D0%BA',\n",
      " 'Ссылка на сайт': 'https://hh.ru'}\n"
     ]
    }
   ],
   "source": [
    "salary_vac = int(input('Введите нужную зарплату: '))\n",
    "\n",
    "for doc in vacancies.find({'$or': [{'Минимальная зарплата': {'$gte': salary_vac}},\n",
    "                                   {'Максимальная зарплата': {'$gte': salary_vac}}]}):\n",
    "     pprint(doc)"
   ]
  },
  {
   "cell_type": "code",
   "execution_count": null,
   "id": "98f02c80",
   "metadata": {},
   "outputs": [],
   "source": []
  }
 ],
 "metadata": {
  "kernelspec": {
   "display_name": "Python 3 (ipykernel)",
   "language": "python",
   "name": "python3"
  },
  "language_info": {
   "codemirror_mode": {
    "name": "ipython",
    "version": 3
   },
   "file_extension": ".py",
   "mimetype": "text/x-python",
   "name": "python",
   "nbconvert_exporter": "python",
   "pygments_lexer": "ipython3",
   "version": "3.9.6"
  }
 },
 "nbformat": 4,
 "nbformat_minor": 5
}
